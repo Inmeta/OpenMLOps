{
 "cells": [
  {
   "cell_type": "code",
   "execution_count": 1,
   "id": "9fb0ba7f-e358-4a4f-8823-9de3e0048aa0",
   "metadata": {},
   "outputs": [],
   "source": [
    "import prefect\n",
    "from prefect import task, Flow, Parameter, Client\n",
    "from prefect.run_configs import KubernetesRun\n",
    "from prefect.schedules import IntervalSchedule\n",
    "from prefect.storage import S3\n",
    "\n",
    "from sklearn.metrics import mean_squared_error, mean_absolute_error, r2_score\n",
    "from sklearn.model_selection import train_test_split\n",
    "from sklearn.linear_model import ElasticNet\n",
    "\n",
    "from datetime import timedelta\n",
    "import time\n",
    "import getpass\n",
    "\n",
    "import numpy as np\n",
    "import pandas as pd\n",
    "\n",
    "import mlflow\n",
    "import requests"
   ]
  },
  {
   "cell_type": "code",
   "execution_count": 2,
   "id": "9932e402-055c-407d-9de1-9731e66338d4",
   "metadata": {},
   "outputs": [],
   "source": [
    "def fetch_data():\n",
    "    # Fetch data from the internet\n",
    "    csv_url = \"http://archive.ics.uci.edu/ml/machine-learning-databases/wine-quality/winequality-red.csv\"\n",
    "    data = pd.read_csv(csv_url, sep=\";\")\n",
    "    return data\n",
    "\n",
    "def train_model(data, alpha=0.5, l1_ratio=0.5):\n",
    "    # Train a regression model\n",
    "    train, test = train_test_split(data)\n",
    "    \n",
    "    # The predicted column is \"quality\" which is a scalar from [3, 9]\n",
    "    train_x = train.drop([\"quality\"], axis=1)\n",
    "    test_x = test.drop([\"quality\"], axis=1)\n",
    "    train_y = train[[\"quality\"]]\n",
    "    test_y = test[[\"quality\"]]\n",
    "    \n",
    "    lr = ElasticNet(alpha=alpha, l1_ratio=l1_ratio, random_state=42)\n",
    "    lr.fit(train_x, train_y)\n",
    "    predicted_qualities = lr.predict(test_x)\n",
    "    # Evaluate the model with the helper function\n",
    "    (rmse, mae, r2) = eval_metrics(test_y, predicted_qualities)\n",
    "\n",
    "    print(\"Elasticnet model (alpha=%f, l1_ratio=%f):\" % (alpha, l1_ratio))\n",
    "    print(\"  RMSE: %s\" % rmse)\n",
    "    print(\"  MAE: %s\" % mae)\n",
    "    print(\"  R2: %s\" % r2)\n",
    "    \n",
    "def eval_metrics(actual, pred):\n",
    "    # Helper function to evalue the regression model\n",
    "    rmse = np.sqrt(mean_squared_error(actual, pred))\n",
    "    mae = mean_absolute_error(actual, pred)\n",
    "    r2 = r2_score(actual, pred)\n",
    "    return rmse, mae, r2\n"
   ]
  },
  {
   "cell_type": "code",
   "execution_count": 3,
   "id": "2db65b85-1568-4ea2-8155-cfdbc4235d12",
   "metadata": {},
   "outputs": [
    {
     "name": "stdout",
     "output_type": "stream",
     "text": [
      "Elasticnet model (alpha=0.500000, l1_ratio=0.500000):\n",
      "  RMSE: 0.7402936992830257\n",
      "  MAE: 0.5972094574803722\n",
      "  R2: 0.1343630371218656\n"
     ]
    }
   ],
   "source": [
    "# Fetch data and train the model\n",
    "data = fetch_data()\n",
    "train_model(data)"
   ]
  }
 ],
 "metadata": {
  "kernelspec": {
   "display_name": "Python 3 (ipykernel)",
   "language": "python",
   "name": "python3"
  },
  "language_info": {
   "codemirror_mode": {
    "name": "ipython",
    "version": 3
   },
   "file_extension": ".py",
   "mimetype": "text/x-python",
   "name": "python",
   "nbconvert_exporter": "python",
   "pygments_lexer": "ipython3",
   "version": "3.10.4"
  }
 },
 "nbformat": 4,
 "nbformat_minor": 5
}
