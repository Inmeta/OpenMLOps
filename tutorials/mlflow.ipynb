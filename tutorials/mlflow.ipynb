{
 "cells": [
  {
   "cell_type": "code",
   "execution_count": 14,
   "id": "6a9bd1a1-200a-4048-81ec-424c5095c0cb",
   "metadata": {},
   "outputs": [
    {
     "name": "stdout",
     "output_type": "stream",
     "text": [
      "Requirement already satisfied: xgboost in /opt/conda/lib/python3.10/site-packages (1.6.1)\n",
      "Collecting boto3\n",
      "  Downloading boto3-1.23.10-py3-none-any.whl (132 kB)\n",
      "\u001b[2K     \u001b[90m━━━━━━━━━━━━━━━━━━━━━━━━━━━━━━━━━━━━━━\u001b[0m \u001b[32m132.5/132.5 kB\u001b[0m \u001b[31m11.0 MB/s\u001b[0m eta \u001b[36m0:00:00\u001b[0m\n",
      "\u001b[?25hRequirement already satisfied: numpy in /opt/conda/lib/python3.10/site-packages (from xgboost) (1.21.6)\n",
      "Requirement already satisfied: scipy in /opt/conda/lib/python3.10/site-packages (from xgboost) (1.8.1)\n",
      "Collecting jmespath<2.0.0,>=0.7.1\n",
      "  Downloading jmespath-1.0.0-py3-none-any.whl (23 kB)\n",
      "Collecting botocore<1.27.0,>=1.26.10\n",
      "  Downloading botocore-1.26.10-py3-none-any.whl (8.8 MB)\n",
      "\u001b[2K     \u001b[90m━━━━━━━━━━━━━━━━━━━━━━━━━━━━━━━━━━━━━━━━\u001b[0m \u001b[32m8.8/8.8 MB\u001b[0m \u001b[31m80.9 MB/s\u001b[0m eta \u001b[36m0:00:00\u001b[0m:00:01\u001b[0m00:01\u001b[0m\n",
      "\u001b[?25hCollecting s3transfer<0.6.0,>=0.5.0\n",
      "  Downloading s3transfer-0.5.2-py3-none-any.whl (79 kB)\n",
      "\u001b[2K     \u001b[90m━━━━━━━━━━━━━━━━━━━━━━━━━━━━━━━━━━━━━━━━\u001b[0m \u001b[32m79.5/79.5 kB\u001b[0m \u001b[31m15.0 MB/s\u001b[0m eta \u001b[36m0:00:00\u001b[0m\n",
      "\u001b[?25hRequirement already satisfied: python-dateutil<3.0.0,>=2.1 in /opt/conda/lib/python3.10/site-packages (from botocore<1.27.0,>=1.26.10->boto3) (2.8.2)\n",
      "Requirement already satisfied: urllib3<1.27,>=1.25.4 in /opt/conda/lib/python3.10/site-packages (from botocore<1.27.0,>=1.26.10->boto3) (1.26.5)\n",
      "Requirement already satisfied: six>=1.5 in /opt/conda/lib/python3.10/site-packages (from python-dateutil<3.0.0,>=2.1->botocore<1.27.0,>=1.26.10->boto3) (1.16.0)\n",
      "Installing collected packages: jmespath, botocore, s3transfer, boto3\n",
      "Successfully installed boto3-1.23.10 botocore-1.26.10 jmespath-1.0.0 s3transfer-0.5.2\n"
     ]
    }
   ],
   "source": [
    "!pip install xgboost boto3"
   ]
  },
  {
   "cell_type": "code",
   "execution_count": 28,
   "id": "4d774f0e-fb85-4833-a1ee-595314eef359",
   "metadata": {},
   "outputs": [
    {
     "name": "stdout",
     "output_type": "stream",
     "text": [
      "MLflow Version: 1.26.1\n",
      "MLflow Tracking URI: http://mlflow.mlflow:5000\n",
      "XGBoost version: 1.6.1\n"
     ]
    }
   ],
   "source": [
    "import pandas as pd\n",
    "import numpy as np\n",
    "from sklearn.metrics import mean_squared_error, mean_absolute_error, r2_score\n",
    "from sklearn.model_selection import train_test_split\n",
    "import xgboost as xgb\n",
    "import mlflow\n",
    "import mlflow.xgboost\n",
    "\n",
    "\n",
    "mlflow.set_tracking_uri(\"http://mlflow.mlflow:5000\")\n",
    "print(\"MLflow Version:\", mlflow.__version__)\n",
    "print(\"MLflow Tracking URI:\", mlflow.get_tracking_uri())\n",
    "print(\"XGBoost version:\",xgb.__version__)\n",
    "client = mlflow.tracking.MlflowClient()\n",
    "\n",
    "def build_data():\n",
    "    csv_url = \"http://archive.ics.uci.edu/ml/machine-learning-databases/wine-quality/winequality-red.csv\"\n",
    "    data = pd.read_csv(csv_url, sep=\";\")\n",
    "    train, test = train_test_split(data, test_size=0.30, random_state=2019)\n",
    "\n",
    "    # The predicted column is \"quality\" which is a scalar from [3, 9]\n",
    "    X_train = train.drop([\"quality\"], axis=1)\n",
    "    X_test = test.drop([\"quality\"], axis=1)\n",
    "    y_train = train[\"quality\"]\n",
    "    y_test = test[\"quality\"]\n",
    "\n",
    "    return X_train, X_test, y_train, y_test \n",
    "\n",
    "def train(experiment_id, run_name, max_depth, min_child_weight, estimators, model_name):\n",
    "    X_train, X_test, y_train, y_test = build_data()\n",
    "    \n",
    "    with mlflow.start_run(experiment_id=experiment_id, run_name=run_name) as run:\n",
    "        run_id = run.info.run_id\n",
    "        experiment_id = run.info.experiment_id\n",
    "        print(\"MLflow:\")\n",
    "        print(\"  run_id:\", run_id)\n",
    "        print(\"  experiment_id:\", experiment_id)\n",
    "        print(\"  experiment_name:\", client.get_experiment(experiment_id).name)\n",
    "\n",
    "        # MLflow params\n",
    "        print(\"Parameters:\")\n",
    "        print(\"  max_depth:\", max_depth)\n",
    "        print(\"  min_child_weight:\", min_child_weight)\n",
    "        print(\"  estimators:\", estimators)\n",
    "        mlflow.log_param(\"max_depth\", max_depth)\n",
    "        mlflow.log_param(\"min_child_weight\", min_child_weight)\n",
    "        mlflow.log_param(\"estimators\", estimators)\n",
    "\n",
    "        # Create and fit model\n",
    "        model = xgb.XGBRegressor(\n",
    "                 max_depth=max_depth,\n",
    "                 min_child_weight=min_child_weight,\n",
    "                 random_state=42) \n",
    "        model.fit(X_train, y_train)\n",
    "\n",
    "        # MLflow metrics\n",
    "        predictions = model.predict(X_test)\n",
    "        #print(\"predictions:\",predictions)\n",
    "        rmse = np.sqrt(mean_squared_error(y_test, predictions))\n",
    "        mae = mean_absolute_error(y_test, predictions)\n",
    "        r2 = r2_score(y_test, predictions)\n",
    "        print(\"Metrics:\")\n",
    "        print(\"  rmse:\", rmse)\n",
    "        print(\"  mae:\", mae)\n",
    "        print(\"  r2:\", r2)\n",
    "        mlflow.log_metric(\"rmse\", rmse)\n",
    "        mlflow.log_metric(\"r2\", r2)\n",
    "        mlflow.log_metric(\"mae\", mae)\n",
    "\n",
    "        # Log model\n",
    "        mlflow.xgboost.log_model(model, \"xgboost-model\", registered_model_name=model_name)\n"
   ]
  },
  {
   "cell_type": "code",
   "execution_count": 30,
   "id": "34cfb408-b4c5-479b-b422-0cd519ade14c",
   "metadata": {},
   "outputs": [
    {
     "name": "stdout",
     "output_type": "stream",
     "text": [
      "MLflow:\n",
      "  run_id: c8aafba1d91d4ab4a47d68132e90e79f\n",
      "  experiment_id: 6\n",
      "  experiment_name: winequality\n",
      "Parameters:\n",
      "  max_depth: 2\n",
      "  min_child_weight: 0.5\n",
      "  estimators: 100\n",
      "Metrics:\n",
      "  rmse: 0.6576366783667097\n",
      "  mae: 0.5122278740008672\n",
      "  r2: 0.24454302828711816\n",
      "MLflow:\n",
      "  run_id: 22c985ad6152454f9e0ad759b9225948\n",
      "  experiment_id: 6\n",
      "  experiment_name: winequality\n",
      "Parameters:\n",
      "  max_depth: 2\n",
      "  min_child_weight: 0.5\n",
      "  estimators: 100\n",
      "Metrics:\n",
      "  rmse: 0.6576366783667097\n",
      "  mae: 0.5122278740008672\n",
      "  r2: 0.24454302828711816\n",
      "MLflow:\n",
      "  run_id: d7a0ea8ac6164737a0501669bc7bea03\n",
      "  experiment_id: 6\n",
      "  experiment_name: winequality\n",
      "Parameters:\n",
      "  max_depth: 2\n",
      "  min_child_weight: 0.5\n",
      "  estimators: 100\n",
      "Metrics:\n",
      "  rmse: 0.6576366783667097\n",
      "  mae: 0.5122278740008672\n",
      "  r2: 0.24454302828711816\n"
     ]
    }
   ],
   "source": [
    "train(6, \"decrease min child weight\", 2, 0.5, 100, None)\n",
    "train(6, \"decrease min child weight\", 2, 0.5, 100, None)\n",
    "train(6, \"decrease min child weight\", 2, 0.5, 100, None)"
   ]
  }
 ],
 "metadata": {
  "kernelspec": {
   "display_name": "Python 3 (ipykernel)",
   "language": "python",
   "name": "python3"
  },
  "language_info": {
   "codemirror_mode": {
    "name": "ipython",
    "version": 3
   },
   "file_extension": ".py",
   "mimetype": "text/x-python",
   "name": "python",
   "nbconvert_exporter": "python",
   "pygments_lexer": "ipython3",
   "version": "3.10.4"
  }
 },
 "nbformat": 4,
 "nbformat_minor": 5
}
