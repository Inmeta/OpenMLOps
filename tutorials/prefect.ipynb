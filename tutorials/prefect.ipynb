{
 "cells": [
  {
   "cell_type": "code",
   "execution_count": 1,
   "id": "ec5acf4b-98c4-48cf-a886-72c86aa03d43",
   "metadata": {},
   "outputs": [],
   "source": [
    "import prefect\n",
    "from prefect import task, Flow, Parameter, Client\n",
    "from prefect.run_configs import KubernetesRun\n",
    "from prefect.schedules import IntervalSchedule\n",
    "from prefect.storage import S3\n",
    "\n",
    "from sklearn.metrics import mean_squared_error, mean_absolute_error, r2_score\n",
    "from sklearn.model_selection import train_test_split\n",
    "from sklearn.linear_model import ElasticNet\n",
    "\n",
    "from datetime import timedelta\n",
    "import time\n",
    "import getpass\n",
    "\n",
    "import numpy as np\n",
    "import pandas as pd\n",
    "\n",
    "import mlflow\n",
    "import requests"
   ]
  },
  {
   "cell_type": "markdown",
   "id": "a569a3e4-6e39-4c36-ae5a-38298e024b68",
   "metadata": {},
   "source": [
    "# Run the model in prefect"
   ]
  },
  {
   "cell_type": "code",
   "execution_count": 22,
   "id": "ddd71935-9272-4e1b-82c3-efbf067f25f5",
   "metadata": {},
   "outputs": [],
   "source": [
    "@task\n",
    "def fetch_data():\n",
    "    # Fetch data from the internet\n",
    "    csv_url = \"http://archive.ics.uci.edu/ml/machine-learning-databases/wine-quality/winequality-red.csv\"\n",
    "    data = pd.read_csv(csv_url, sep=\";\")\n",
    "    return data\n",
    "\n",
    "@task\n",
    "def train_model(data, alpha=0.5, l1_ratio=0.5):\n",
    "    # Train a regression model\n",
    "    train, test = train_test_split(data)\n",
    "    \n",
    "    # The predicted column is \"quality\" which is a scalar from [3, 9]\n",
    "    train_x = train.drop([\"quality\"], axis=1)\n",
    "    test_x = test.drop([\"quality\"], axis=1)\n",
    "    train_y = train[[\"quality\"]]\n",
    "    test_y = test[[\"quality\"]]\n",
    "    \n",
    "    lr = ElasticNet(alpha=alpha, l1_ratio=l1_ratio, random_state=42)\n",
    "    lr.fit(train_x, train_y)\n",
    "    predicted_qualities = lr.predict(test_x)\n",
    "    # Evaluate the model with the helper function\n",
    "    (rmse, mae, r2) = eval_metrics(test_y, predicted_qualities)\n",
    "\n",
    "    print(\"Elasticnet model (alpha=%f, l1_ratio=%f):\" % (alpha, l1_ratio))\n",
    "    print(\"  RMSE: %s\" % rmse)\n",
    "    print(\"  MAE: %s\" % mae)\n",
    "    print(\"  R2: %s\" % r2)\n",
    "    \n",
    "def eval_metrics(actual, pred):\n",
    "    # Helper function to evalue the regression model\n",
    "    rmse = np.sqrt(mean_squared_error(actual, pred))\n",
    "    mae = mean_absolute_error(actual, pred)\n",
    "    r2 = r2_score(actual, pred)\n",
    "    return rmse, mae, r2"
   ]
  },
  {
   "cell_type": "code",
   "execution_count": 25,
   "id": "07e3b38b-62e8-496e-8651-9d164e12e7a2",
   "metadata": {},
   "outputs": [],
   "source": [
    "def get_prefect_token():\n",
    "    # Helper function to retrieve prefect token\n",
    "    r = requests.get(auth_url)\n",
    "    jsn = r.json()\n",
    "    action_url = jsn[\"ui\"][\"action\"]\n",
    "    data = {\"password_identifier\": username, \"password\": password, \"method\": \"password\"}\n",
    "    headers = {\"Accept\": \"application/json\", \"Content-Type\": \"application/json\"}\n",
    "    r = requests.post(action_url, json=data, headers=headers)\n",
    "    r.raise_for_status()\n",
    "    jsn = r.json()\n",
    "    session_token = jsn[\"session_token\"]\n",
    "    return session_token\n",
    "\n",
    "def get_tenant_id():\n",
    "    # Helper function to retrieve tentant id\n",
    "    session_token = get_prefect_token()\n",
    "    prefect_client = Client(api_server=prefect_url, api_key=get_prefect_token())\n",
    "    return prefect_client.get_available_tenants()[0][\"id\"]"
   ]
  },
  {
   "cell_type": "code",
   "execution_count": 30,
   "id": "913cd248-6721-4095-9548-f1987f7656e1",
   "metadata": {},
   "outputs": [
    {
     "name": "stdin",
     "output_type": "stream",
     "text": [
      " ················\n"
     ]
    },
    {
     "name": "stdout",
     "output_type": "stream",
     "text": [
      "<Response [200]>\n",
      "<Response [200]>\n",
      "<Response [200]>\n",
      "[2022-05-31 17:12:33+0200] INFO - prefect.S3 | Uploading train-wine-quality-model/2022-05-31t15-12-33-305617-00-00 to demo4nic-mlflow2\n"
     ]
    },
    {
     "name": "stderr",
     "output_type": "stream",
     "text": [
      "/tmp/ipykernel_296/3978813208.py:20: UserWarning: No result handler was specified on your Flow. Cloud features such as input caching and resuming task runs from failure may not work properly.\n",
      "  training_flow_id = prefect_client.register(flow, project_name=prefect_project_name)\n"
     ]
    },
    {
     "name": "stdout",
     "output_type": "stream",
     "text": [
      "Flow URL: https://cloud.prefect.io/default/flow/71dc55b1-755f-4680-b463-24676eeaa6b0\n",
      " └── ID: 77654a95-007f-4df7-adf3-9a614c2f1d1f\n",
      " └── Project: wine-quality-project\n",
      " └── Labels: ['dev']\n"
     ]
    }
   ],
   "source": [
    "def create_prefect_flow():\n",
    "    # Execution environment\n",
    "    run_config = KubernetesRun(\n",
    "        labels=[\"dev\"],\n",
    "        service_account_name=\"prefect-server-serviceaccount\",\n",
    "        image=docker_image\n",
    "    )\n",
    "    storage = S3(s3_bucket)\n",
    "\n",
    "    session_token = get_prefect_token()\n",
    "    prefect_client = Client(api_server=prefect_url, api_key=session_token, tenant_id=get_tenant_id())\n",
    "\n",
    "    # Define the flow\n",
    "    with Flow(\"train-wine-quality-model\", storage=storage, run_config=run_config) as flow:\n",
    "        data = fetch_data()\n",
    "        train_model(data=data, alpha=0.3, l1_ratio=0.3)\n",
    "\n",
    "    # Deploy and trigger\n",
    "    prefect_client.create_project(project_name=prefect_project_name)\n",
    "    training_flow_id = prefect_client.register(flow, project_name=prefect_project_name)\n",
    "    flow_run_id = prefect_client.create_flow_run(flow_id=training_flow_id, run_name=f\"run {prefect_project_name}\")\n",
    "\n",
    "\n",
    "s3_bucket = \"demo4nic-mlflow2\"\n",
    "domain = \"mlops2.demo4nic.com\"\n",
    "prefect_project_name = \"wine-quality-project\"         # you can use what you want here\n",
    "docker_image = \"smandaric/prefect:winequality-v1\"    # any docker image that has the required Python dependencies\n",
    "prefect_url = f\"https://prefect.{domain}/graphql\"\n",
    "auth_url = f\"https://{domain}/.ory/kratos/public/self-service/login/api\"\n",
    "username = \"nicdemo1@alchemyst.xyz\"\n",
    "password = getpass.getpass()\n",
    "\n",
    "\n",
    "create_prefect_flow()"
   ]
  },
  {
   "cell_type": "code",
   "execution_count": null,
   "id": "cf979bb1-1210-46b9-ba2d-8323d9cac695",
   "metadata": {},
   "outputs": [],
   "source": []
  },
  {
   "cell_type": "code",
   "execution_count": null,
   "id": "468865f1-f35a-47b7-91ef-d3bc86cf501b",
   "metadata": {},
   "outputs": [],
   "source": []
  },
  {
   "cell_type": "code",
   "execution_count": null,
   "id": "eb7d2f0e-c2da-41ec-a2b5-10b2c01c84a9",
   "metadata": {},
   "outputs": [],
   "source": []
  },
  {
   "cell_type": "code",
   "execution_count": null,
   "id": "903a0ffe-5e21-4b72-9fde-5891803e1857",
   "metadata": {},
   "outputs": [],
   "source": []
  },
  {
   "cell_type": "code",
   "execution_count": null,
   "id": "8c317994-b8c6-4bed-a04c-aa1b01438833",
   "metadata": {},
   "outputs": [],
   "source": []
  },
  {
   "cell_type": "code",
   "execution_count": null,
   "id": "7e795337-ef5d-4a8a-a7d0-1ddd51d365b3",
   "metadata": {},
   "outputs": [],
   "source": []
  }
 ],
 "metadata": {
  "kernelspec": {
   "display_name": "Python 3 (ipykernel)",
   "language": "python",
   "name": "python3"
  },
  "language_info": {
   "codemirror_mode": {
    "name": "ipython",
    "version": 3
   },
   "file_extension": ".py",
   "mimetype": "text/x-python",
   "name": "python",
   "nbconvert_exporter": "python",
   "pygments_lexer": "ipython3",
   "version": "3.10.4"
  }
 },
 "nbformat": 4,
 "nbformat_minor": 5
}
